{
  "nbformat": 4,
  "nbformat_minor": 0,
  "metadata": {
    "accelerator": "GPU",
    "colab": {
      "name": "BEAST MCMC WORKSHOP.ipynb",
      "provenance": [],
      "collapsed_sections": [
        "twIuiVGilp8k",
        "DrUpd6bor1HK",
        "0iO1tuBBtiXA",
        "VmACTYlZt_dM"
      ],
      "include_colab_link": true
    },
    "kernelspec": {
      "display_name": "Python 3",
      "name": "python3"
    },
    "language_info": {
      "name": "python"
    }
  },
  "cells": [
    {
      "cell_type": "markdown",
      "metadata": {
        "id": "view-in-github",
        "colab_type": "text"
      },
      "source": [
        "<a href=\"https://colab.research.google.com/github/LeoFeatherstone/idPhyloWorkshop/blob/main/day2/BEAST_MCMC_WORKSHOP.ipynb\" target=\"_parent\"><img src=\"https://colab.research.google.com/assets/colab-badge.svg\" alt=\"Open In Colab\"/></a>"
      ]
    },
    {
      "cell_type": "markdown",
      "metadata": {
        "id": "9mxIvkyoNYF1"
      },
      "source": [
        "# MCMC - Phylodynamics @ The Doherty\n",
        "[![Open In Colab](https://colab.research.google.com/assets/colab-badge.svg)](https://colab.research.google.com/github/LeoFeatherstone/idPhyloWorkshop/blob/main/day2/BEAST_MCMC_WORKSHOP.ipynb)\n",
        "\n",
        "This notebook shows how to run `beast` from the command line. Here we use [dynamic-beast](https://github.com/Wytamma/dynamic-beast) to modify the xml file and [beastiary](https://github.com/Wytamma/beastiary) to inspect the trace files in real-time.\n",
        "\n",
        "Based on [EnzoAndree/ColabBEAST](https://github.com/EnzoAndree/ColabBEAST)."
      ]
    },
    {
      "cell_type": "markdown",
      "metadata": {
        "id": "twIuiVGilp8k"
      },
      "source": [
        "# Install requirements \n",
        "\n",
        "This group of cells will install all the requirements and set up the envrioment."
      ]
    },
    {
      "cell_type": "code",
      "metadata": {
        "id": "9fuGo-f8Pxvr",
        "cellView": "form"
      },
      "source": [
        "#@title Check Nvidia GPU\n",
        "import ipywidgets as widgets\n",
        "import pandas as pd\n",
        "import psutil\n",
        "from time import sleep, time\n",
        "from bokeh.resources import INLINE\n",
        "from bokeh.plotting import figure, show\n",
        "from bokeh.io import output_notebook, push_notebook, curdoc\n",
        "from bokeh.themes import built_in_themes\n",
        "from bokeh.models import BasicTickFormatter, Legend, NumeralTickFormatter\n",
        "from pathlib import Path\n",
        "import shlex, subprocess\n",
        "\n",
        "def get_compute(name):\n",
        "  if 'A100' in name:\n",
        "    return '80'\n",
        "  elif 'V100' in name:\n",
        "    return '70'\n",
        "  elif 'P4' in name:\n",
        "    return '61'\n",
        "  elif 'T4' in name:\n",
        "    return '75'\n",
        "  elif 'P100' in name:\n",
        "    return '60'\n",
        "  elif 'K80' in name:\n",
        "    return '37'\n",
        "def get_packagemanager_list(output):\n",
        "  lines = outpack[4:]\n",
        "  listofpack = []\n",
        "  for package in lines:\n",
        "    listofpack.append(package.split()[0])\n",
        "  return listofpack\n",
        "\n",
        "!nvidia-smi\n",
        "Gcardinfo = !nvidia-smi --query-gpu=gpu_name,memory.total --format=csv,noheader,nounits\n",
        "Gcardname, Gcardram = Gcardinfo[0].split(', ')"
      ],
      "execution_count": null,
      "outputs": []
    },
    {
      "cell_type": "code",
      "metadata": {
        "id": "HXmtbmmPQDx4"
      },
      "source": [
        "%%capture\n",
        "#@title Install BEAST2, Beagle, beastiary, and dynamic-beast\n",
        "!pip install beastiary\n",
        "!pip install dynamic-beast\n",
        "!npm install -g localtunnel # used to serve beastiary over the internet\n",
        "checkinstall = Path('./BEAST2Beagle_READY')\n",
        "if not checkinstall.is_file():\n",
        "    !wget https://github.com/CompEvol/beast2/releases/download/v2.6.4/BEAST.v2.6.4.Linux.tgz\n",
        "    !tar -zxvf BEAST.v2.6.4.Linux.tgz\n",
        "    !rm -fr BEAST.v2.6.4.Linux.tgz\n",
        "    %cd /content\n",
        "    !apt-get install build-essential autoconf automake libtool git pkg-config\n",
        "    !git clone --depth=1 https://github.com/beagle-dev/beagle-lib.git\n",
        "    %cd beagle-lib\n",
        "    # http://arnon.dk/matching-sm-architectures-arch-and-gencode-for-various-nvidia-cards/\n",
        "    # Nvidia A100 compute_80\n",
        "    # Nvidia V100 compute_70\n",
        "    # Nvidia P4 compute_61\n",
        "    # Nvidia T4 compute_75\n",
        "    # Nvidia P100 compute_60\n",
        "    # Nvidia K80 compute_37\n",
        "    !sed -i 's/-arch compute_30/-gencode=arch=compute_{get_compute(Gcardname)},code=sm_{get_compute(Gcardname)}/' configure.ac\n",
        "    !./autogen.sh\n",
        "    !./configure --prefix=$HOME\n",
        "    !make install\n",
        "    !make check\n",
        "    %env LD_LIBRARY_PATH=/root/lib\n",
        "    %cd /content\n",
        "    !touch BEAST2Beagle_READY"
      ],
      "execution_count": null,
      "outputs": []
    },
    {
      "cell_type": "code",
      "metadata": {
        "id": "Ob04mdLIRDF_",
        "cellView": "form"
      },
      "source": [
        "#@title Install BEAST2 modules\n",
        "# !./beast/bin/packagemanager -add CoupledMCMC\n",
        "# !./beast/bin/packagemanager -add bacter\n",
        "# !./beast/bin/packagemanager -add NS\n",
        "outpack = !./beast/bin/packagemanager -list\n",
        "modlist = get_packagemanager_list(outpack)\n",
        "typocheck = {x.lower(): x for x in modlist}\n",
        "modules = '' #@param {type:\"string\"}\n",
        "#@markdown - `modules` Specify the extra modules to be installed separated by commas. Leave it blank if you do not need extra modules.\n",
        "#@markdown  - Use `!./beast/bin/packagemanager -list` to get a list of modules availables. \n",
        "\n",
        "to_install = []\n",
        "if modules != '':\n",
        "  errorfound = False\n",
        "  modules = modules.split(',')\n",
        "  modules = [m.strip() for m in modules]\n",
        "  for m in modules:\n",
        "    if m.lower() in typocheck.keys():\n",
        "      to_install.append(typocheck[m.lower()])\n",
        "    else:\n",
        "      errorfound = True\n",
        "      print(f'{m} is not found in the modulule list {modlist}')\n",
        "      break\n",
        "  if not errorfound:\n",
        "    print(f'This modules will be installed: {to_install}')\n",
        "    for m in to_install:\n",
        "      !./beast/bin/packagemanager -add {m}\n",
        "  \n"
      ],
      "execution_count": null,
      "outputs": []
    },
    {
      "cell_type": "code",
      "metadata": {
        "id": "C5ipwBqmbgN4",
        "cellView": "form"
      },
      "source": [
        "#@title Check Beagle resources\n",
        "!./beast/bin/beast -beagle_info "
      ],
      "execution_count": null,
      "outputs": []
    },
    {
      "cell_type": "markdown",
      "metadata": {
        "id": "EjzWYV19mQFw"
      },
      "source": [
        "# Run Beast"
      ]
    },
    {
      "cell_type": "markdown",
      "metadata": {
        "id": "DrUpd6bor1HK"
      },
      "source": [
        "## Create a dynamic XML file\n",
        "\n",
        "We will use `dynamic-beast` to create a dynamic version of the XML file. \n",
        "\n",
        "\n",
        "The `dynamic-beast` tool replaces all the parameter values in the XML file with the `$(id.key=value)` format. The value variable is the default value that was initially specified in the XML file. However, the value can be redefined when running a BEAST analysis by making use of the [BEAST2 definitions option](https://www.beast2.org/2021/03/31/command-line-options.html#-d) (`-D`) that allows for user specified values. \n"
      ]
    },
    {
      "cell_type": "code",
      "metadata": {
        "id": "5bv-n-VQr0mh"
      },
      "source": [
        "XML_FILE=\"MCMC.xml\" # path to the xml file \n",
        "# Use dynamic beast to make a dynamic XML\n",
        "!dynamic-beast --outfile dynamic_$XML_FILE $XML_FILE\n",
        "!ls -l # should see dynmaic_MCMC.xml"
      ],
      "execution_count": null,
      "outputs": []
    },
    {
      "cell_type": "markdown",
      "metadata": {
        "id": "afXL9f1JxxM2"
      },
      "source": [
        "Download the XML and look that dynamic parameters."
      ]
    },
    {
      "cell_type": "markdown",
      "metadata": {
        "id": "0iO1tuBBtiXA"
      },
      "source": [
        "## Run a test analysis\n",
        "\n",
        "A short run to check that everything is working before runing the full anlysis. \n",
        "\n",
        "- Set output dir to `test/`\n",
        "- Set the MCMC chain length to 1 million \n",
        "- Collect 1000 samples"
      ]
    },
    {
      "cell_type": "code",
      "metadata": {
        "id": "pOC5qDZ6nHFm"
      },
      "source": [
        "DYNAMIC_XML=\"dynamic_MCMC.xml\" # path to the dynamic XML file\n",
        "OUTPUT_DIR=\"test/\"\n",
        "!mkdir -p $OUTPUT_DIR # the `!` tells jupyter to use bash \n",
        "\n",
        "CHAIN_LENGTH=1000000  # number of step in MCMC chain - int\n",
        "NUMBER_OF_SAMPLES=1000  # number of samples to collect - int\n",
        "SAMPLE_FREQUENCY=CHAIN_LENGTH // NUMBER_OF_SAMPLES  # calculate the frequency\n",
        "\n",
        "# Format the dynamic variables\n",
        "DYNAMIC_VARS=f\"treelog.logEvery={SAMPLE_FREQUENCY},\"\n",
        "DYNAMIC_VARS+=f\"tracelog.logEvery={SAMPLE_FREQUENCY},\"\n",
        "DYNAMIC_VARS+=f\"mcmc.chainLength={CHAIN_LENGTH}\"\n",
        "\n",
        "# run beast\n",
        "!nohup ./beast/bin/beast \\\n",
        "  -prefix $OUTPUT_DIR \\\n",
        "  -beagle \\\n",
        "  -beagle_GPU \\\n",
        "  -overwrite \\\n",
        "  -D \"${DYNAMIC_VARS}\" \\\n",
        "  $DYNAMIC_XML > $OUTPUT_DIR/beast.out  &\n",
        "# The `nohup` and `&` at the end of the beast command tells bash to run the command in the\n",
        "# background. The processes can be stopped with the `ps` and `kill` commands."
      ],
      "execution_count": null,
      "outputs": []
    },
    {
      "cell_type": "markdown",
      "metadata": {
        "id": "VmACTYlZt_dM"
      },
      "source": [
        "## Inspect the test run with beasity \n",
        "\n",
        "Wait for the `.log` file to appear before running this cell."
      ]
    },
    {
      "cell_type": "code",
      "metadata": {
        "cellView": "form",
        "id": "1PvV1lM6n8Zw"
      },
      "source": [
        "#@title Inspect the log file [beastiary](https://github.com/Wytamma/beastiary) \n",
        "\n",
        "from IPython.display import Javascript\n",
        "import os\n",
        "import signal\n",
        "from time import sleep\n",
        "from glob import glob\n",
        "import socket\n",
        "\n",
        "path_to_log_files = '/content/test/*.log' #@param {type:\"string\"}\n",
        "\n",
        "# stop beastiary if it's already running \n",
        "try:\n",
        "  beastiary_proc = !ps | grep 'beastiary$' \n",
        "  beastiary_pid = int(beastiary_proc[0].split()[0])\n",
        "  os.kill(beastiary_pid, 9)\n",
        "except:\n",
        "  pass\n",
        "\n",
        "s = socket.socket()\n",
        "s.bind((\"\", 0))\n",
        "PORT = s.getsockname()[1]\n",
        "s.close()\n",
        "\n",
        "print(\"\\n🐙🐁 STARTING BEASTIARY 🐁🐙\\n\")\n",
        "cli = f'beastiary --no-security --port {PORT} {path_to_log_files} &> beastiary.logger &'\n",
        "get_ipython().system_raw(cli) \n",
        "\n",
        "# wait for server to start\n",
        "sleep(5)\n",
        "\n",
        "!lt --port $PORT --subdomain beastiary"
      ],
      "execution_count": null,
      "outputs": []
    },
    {
      "cell_type": "markdown",
      "metadata": {
        "id": "DZsge62_uskq"
      },
      "source": [
        "## Run the full analysis \n",
        "\n",
        "- Set the starting value of clock to 3×10−3 subs/site/year \n",
        "- Sample from the prior (Prior predictive checking)\n",
        "- Run the analysis x 2 (10E7 states and 10,000 samples)\n",
        "- Save the seed for each analysis"
      ]
    },
    {
      "cell_type": "code",
      "metadata": {
        "id": "5b8mpiXL7IdP"
      },
      "source": [
        "import random # to create a seed\n",
        "\n",
        "DYNAMIC_XML = \"dynamic_MCMC.xml\" # path to the dynamic XML file\n",
        "OUTPUT_DIR = \"full/\"\n",
        "!mkdir -p $OUTPUT_DIR \n",
        "\n",
        "# Dynamic variables\n",
        "DYNAMIC_VARS = '\"clockRate.c:NorthAm=0.003\"'\n",
        "\n",
        "# --- Prior predictive checking ---\n",
        "RUN_DIR = f\"{OUTPUT_DIR}/prior/\"\n",
        "!mkdir -p $RUN_DIR \n",
        "PREFIX = f\"{RUN_DIR}/prior.\"\n",
        "\n",
        "# Make seed and save the seed\n",
        "SEED = random.randint(0, 10000) \n",
        "!echo $SEED > $RUN_DIR/seed.txt # save the seed\n",
        "\n",
        "!nohup ./beast/bin/beast \\\n",
        "  -prefix $PREFIX \\\n",
        "  -statefile $PREFIX\\state \\\n",
        "  -seed $SEED \\\n",
        "  -beagle \\\n",
        "  -beagle_GPU \\\n",
        "  -overwrite \\\n",
        "  -sampleFromPrior \\\n",
        "  -D $DYNAMIC_VARS \\\n",
        "  $DYNAMIC_XML > $PREFIX\\beast.out  &\n",
        "\n",
        "# --- Full Analysis --- \n",
        "NUMBER_OF_REPEATS = 2  # run multiple times to test for convergence\n",
        "\n",
        "for i in range(NUMBER_OF_REPEATS):\n",
        "  # set up output dir\n",
        "  RUN_DIR = f\"{OUTPUT_DIR}/{i}/\"\n",
        "  !mkdir -p $RUN_DIR \n",
        "  PREFIX = f\"{RUN_DIR}/{i}.\"\n",
        "\n",
        "  # Make seed and save the seed\n",
        "  SEED = random.randint(0, 10000) \n",
        "  !echo $SEED > $RUN_DIR/seed.txt \n",
        "\n",
        "  # run beast\n",
        "  !nohup ./beast/bin/beast \\\n",
        "    -prefix $PREFIX \\\n",
        "    -statefile $PREFIX\\state \\\n",
        "    -beagle \\\n",
        "    -seed $SEED \\\n",
        "    -beagle_GPU \\\n",
        "    -overwrite \\\n",
        "    -D $DYNAMIC_VARS \\\n",
        "    -DFout $OUTPUT_DIR\\beast.xml \\\n",
        "    $DYNAMIC_XML > $PREFIX\\beast.out  &\n",
        "\n"
      ],
      "execution_count": null,
      "outputs": []
    },
    {
      "cell_type": "markdown",
      "metadata": {
        "id": "r1sK0bZqvLHV"
      },
      "source": [
        "## Inspect the full run with beasity \n",
        "\n",
        "Wait for the `.log` files to appear before running this cell."
      ]
    },
    {
      "cell_type": "code",
      "metadata": {
        "cellView": "form",
        "collapsed": true,
        "id": "A5qys6CnnysV"
      },
      "source": [
        "#@title Inspect the log file [beastiary](https://github.com/Wytamma/beastiary) \n",
        "\n",
        "from IPython.display import Javascript\n",
        "import os\n",
        "import signal\n",
        "from time import sleep\n",
        "from glob import glob\n",
        "import socket\n",
        "\n",
        "path_to_log_files = '/content/full/*/*.log' #@param {type:\"string\"}\n",
        "\n",
        "# stop beastiary if it's already running \n",
        "try:\n",
        "  beastiary_proc = !ps | grep 'beastiary$' \n",
        "  beastiary_pid = int(beastiary_proc[0].split()[0])\n",
        "  os.kill(beastiary_pid, 9)\n",
        "except:\n",
        "  pass\n",
        "\n",
        "s = socket.socket()\n",
        "s.bind((\"\", 0))\n",
        "PORT = s.getsockname()[1]\n",
        "s.close()\n",
        "\n",
        "print(\"\\n🐙🐁 STARTING BEASTIARY 🐁🐙\\n\")\n",
        "cli = f'beastiary --no-security --port {PORT} {path_to_log_files} &> beastiary.logger &'\n",
        "get_ipython().system_raw(cli) \n",
        "\n",
        "# wait for server to start\n",
        "sleep(5)\n",
        "\n",
        "!lt --port $PORT --subdomain beastiary"
      ],
      "execution_count": null,
      "outputs": []
    }
  ]
}
